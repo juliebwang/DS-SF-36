{
 "cells": [
  {
   "cell_type": "markdown",
   "metadata": {},
   "source": [
    "# DS-SF-36 | 01 | What is Data Science | Assignment | Starter Code"
   ]
  },
  {
   "cell_type": "markdown",
   "metadata": {},
   "source": [
    "## Python"
   ]
  },
  {
   "cell_type": "markdown",
   "metadata": {},
   "source": [
    "> ## \"Data scientists' most basic, universal skill is the ability to write code.\"\n",
    ">\n",
    "> Harvard Business Review | “Data Scientists: The Sexiest Job of the 21st Century” (2012)\n",
    ">\n",
    "> (https://hbr.org/2012/10/data-scientist-the-sexiest-job-of-the-21st-century)\n",
    "\n",
    "Today, to give you some more practice beyond the course pre-requisites, we are going to implement a few functions in Python.  This assignment covers to some extend the following topics:\n",
    "\n",
    "- Functions (defining and using your own functions but also calling functions from packages)\n",
    "- Loops\n",
    "- Arithmetic operations\n",
    "- Conditional statements\n",
    "\n",
    "**Don't worry if you get stuck.  Ask around, review the answer key, and ask around more.  As this course progresses, your programming proficiency will increase.**"
   ]
  },
  {
   "cell_type": "markdown",
   "metadata": {},
   "source": [
    "> ### Question 1.  Multiples of 3 and 5\n",
    ">\n",
    "> If we list all the natural numbers below 10 that are multiples of 3 or 5, we get 3, 5, 6 and 9.  The sum of these multiples is 23.\n",
    ">\n",
    "> Find the sum of all the multiples of 3 or 5 below 1,000.\n",
    ">\n",
    "> (Source: [Project Euler | Problem 1](https://projecteuler.net/problem=1))"
   ]
  },
  {
   "cell_type": "code",
<<<<<<< HEAD
   "execution_count": 6,
   "metadata": {
    "scrolled": true
   },
   "outputs": [
    {
     "data": {
      "text/plain": [
       "233168"
      ]
     },
     "execution_count": 6,
     "metadata": {},
     "output_type": "execute_result"
    }
   ],
=======
   "execution_count": null,
   "metadata": {},
   "outputs": [],
>>>>>>> upstream/master
   "source": [
    "# Create function called multi_3_5(n) to calculate a sum...\n",
    "# where (i) n is below 10 and (ii) n is below 1,000\n",
    "def multi_3_5(n):\n",
    "    sum = 0\n",
    "    # loop i where range(1, n); excludes 'n' so will iterate everything below 'n'\n",
    "    for i in range(1, n):\n",
    "        if (i % 3 == 0) or (i % 5 == 0):\n",
    "            sum += i\n",
    "    return sum\n",
    "\n",
    "multi_3_5(10)\n",
    "multi_3_5(1000)"
   ]
  },
  {
   "cell_type": "markdown",
   "metadata": {},
   "source": [
    "Answer: 233168"
   ]
  },
  {
   "cell_type": "markdown",
   "metadata": {},
   "source": [
    "> ### Question 2.  Estimating square roots\n",
    ">\n",
    "> Given a real number $m$, let's define the series $u$ as follow:\n",
    "> - $u_0 = 1$\n",
    "> - $u_{n+1} = \\frac{u_n ^ 2 + m}{2u_n}$\n",
    ">\n",
    ">\n",
    "> Implement the calculations of the series $u$ above to estimate square roots.  Verify that $\\sqrt{144} = 12$ and use your function to calculate $\\sqrt{1024}$."
   ]
  },
  {
   "cell_type": "code",
   "execution_count": 19,
   "metadata": {
    "collapsed": true
   },
   "outputs": [],
   "source": [
    "# Create function called sqr(m) to calculate square root\n",
    "def sqr(m):\n",
    "    # Creating u_n variable and setting it equal to 1 (adding '.' to indicate number?) \n",
    "    u_n = 1.\n",
    "    \n",
    "    while True:\n",
    "        u_n_plus_1 = (u_n ** 2 + m) / (2 * u_n)\n",
    "        # absolute value and less than 10 to the minus 6 then break loop (hmm, not 100% sure what's going on here)\n",
    "        # assigning decimal places?\n",
    "        if abs(u_n_plus_1 / u_n - 1) < 10 ** -6:\n",
    "            break\n",
    "        # edited u_n with u_n_plus_1; set equal\n",
    "        u_n = u_n_plus_1\n",
    "    return u_n"
   ]
  },
  {
   "cell_type": "code",
   "execution_count": 20,
   "metadata": {
    "scrolled": true
   },
   "outputs": [
    {
     "data": {
      "text/plain": [
       "12.000000012408687"
      ]
     },
     "execution_count": 20,
     "metadata": {},
     "output_type": "execute_result"
    }
   ],
   "source": [
    "sqr(144)"
   ]
  },
  {
   "cell_type": "code",
   "execution_count": 16,
   "metadata": {},
   "outputs": [
    {
     "data": {
      "text/plain": [
       "32.0000071648159"
      ]
     },
     "execution_count": 16,
     "metadata": {},
     "output_type": "execute_result"
    }
   ],
   "source": [
    "sqr(1024)"
   ]
  },
  {
   "cell_type": "markdown",
   "metadata": {},
   "source": [
    "Answer: TODO"
   ]
  },
  {
   "cell_type": "raw",
   "metadata": {},
   "source": [
    "1024"
   ]
  },
  {
   "cell_type": "markdown",
   "metadata": {},
   "source": [
    "> ### Question 3.  Prime Numbers\n",
    ">\n",
    "> A prime (number) is a natural number greater than 1 that has no positive divisors other than 1 and itself.  ([Wikipedia](https://en.wikipedia.org/wiki/Prime_number))\n",
    ">\n",
    "> Calculate all primes below 1,000.  What's their sum?"
   ]
  },
  {
   "cell_type": "code",
   "execution_count": 37,
   "metadata": {
    "collapsed": true
   },
   "outputs": [],
   "source": [
    "import math"
   ]
  },
  {
   "cell_type": "code",
   "execution_count": 38,
   "metadata": {},
   "outputs": [
    {
     "data": {
      "text/plain": [
       "32.0"
      ]
     },
     "execution_count": 38,
     "metadata": {},
     "output_type": "execute_result"
    }
   ],
   "source": [
    "math.sqrt(1024)"
   ]
  },
  {
   "cell_type": "code",
   "execution_count": 44,
   "metadata": {
    "collapsed": true,
    "scrolled": true
   },
   "outputs": [],
   "source": [
    "# Step 1: define a prime number\n",
    "# Loop i where n between 2 and hmm... 'no positive divisors other than 1 and itself'\n",
    "# and loop i where if n is divided by itself and it's zero then it's excluded (False)\n",
    "def prime(n):\n",
    "    for i in range(2, int(sqr(n)) + 1):\n",
    "        if n % i == 0:\n",
    "            return False\n",
    "    return True\n",
    "\n",
    "# Step 2: Calculate primes < 1000 \n",
    "# Create an empty list\n",
    "# Loop i where n is between 2 and prime plus 1 since it will include the highest prime and exclude n + 1\n",
    "# Redefine the prime argument i using append operation\n",
    "def prime_sum(n):\n",
    "    l = []\n",
    "    for i in range(2, n + 1):\n",
    "        if prime(i)\n",
    "            l.append(i)\n",
    "    return l\n",
    "\n",
    "# Step 3: calculating the sum of primes below 1,000 by calling the 'l' list\n",
    "l = prime_sum(100)"
   ]
  },
  {
   "cell_type": "code",
   "execution_count": null,
   "metadata": {
    "collapsed": true
   },
   "outputs": [],
   "source": []
  },
  {
   "cell_type": "code",
   "execution_count": 45,
   "metadata": {
    "scrolled": true
   },
   "outputs": [
    {
     "data": {
      "text/plain": [
       "1060"
      ]
     },
     "execution_count": 45,
     "metadata": {},
     "output_type": "execute_result"
    }
   ],
   "source": [
    "sum(l)"
   ]
  },
  {
   "cell_type": "markdown",
   "metadata": {},
   "source": [
    "Answer: TODO"
   ]
  },
  {
   "cell_type": "markdown",
   "metadata": {},
   "source": [
    "> ### Question 4.  Largest prime factor\n",
    ">\n",
    "> The prime factors of 13195 are 5, 7, 13 and 29.\n",
    ">\n",
    "> What is the largest prime factor of the number 600851475143?\n",
    ">\n",
    "> (Source: [Project Euler | Problem 3](https://projecteuler.net/problem=3))"
   ]
  },
  {
   "cell_type": "code",
   "execution_count": 47,
   "metadata": {
    "collapsed": true
   },
   "outputs": [],
   "source": [
    "# Define largest prime factor\n",
    "# Hmm, totally lost...\n",
    "\n",
    "def largest_prime_factor(n):\n",
    "    primes = set()\n",
    "\n",
    "    i = 2\n",
    "    while n > 1:\n",
    "        while n % i == 0:\n",
    "            primes.add(i)\n",
    "            n /= i\n",
    "        i += 1\n",
    "\n",
    "    return max(primes)"
   ]
  },
  {
   "cell_type": "code",
   "execution_count": 48,
   "metadata": {},
   "outputs": [
    {
     "data": {
      "text/plain": [
       "29"
      ]
     },
     "execution_count": 48,
     "metadata": {},
     "output_type": "execute_result"
    }
   ],
   "source": [
    "largest_prime_factor(13195)"
   ]
  },
  {
   "cell_type": "code",
   "execution_count": 50,
   "metadata": {},
   "outputs": [
    {
     "data": {
      "text/plain": [
       "6857"
      ]
     },
     "execution_count": 50,
     "metadata": {},
     "output_type": "execute_result"
    }
   ],
   "source": [
    "largest_prime_factor(600851475143)"
   ]
  },
  {
   "cell_type": "markdown",
   "metadata": {},
   "source": [
    "Answer: TODO"
   ]
  },
  {
   "cell_type": "markdown",
   "metadata": {},
   "source": [
    "> ### Question 5.  Mean\n",
    ">\n",
    "> Write a function to calculate the mean (average) of a list.\n",
    ">\n",
    "> What's the mean of 10, 8, 13, 9, 11, 14, 6, 4, 12, 7, and 5?"
   ]
  },
  {
   "cell_type": "code",
   "execution_count": 57,
   "metadata": {
    "collapsed": true
   },
   "outputs": [],
   "source": [
    "# Step 1: define mean (average) of a list, 'sum of numbers' divided by 'number of numbers'\n",
    "# Let x equal to the number of numbers\n",
    "# Denominator can't be zero\n",
    "# Reset \"sum\" variable to zero.\n",
    "def avg(n):\n",
    "    x = len(n)\n",
    "    if x == 0:\n",
    "        return False\n",
    "    \n",
    "    sum = 0.\n",
    "    \n",
    "    # Loop i where n is equal to the sum of n's in the list\n",
    "    # Assign sum to new sum\n",
    "    for i in n:\n",
    "        sum += i\n",
    "    \n",
    "    # Call sum divided by number of numbers\n",
    "    return sum / x"
   ]
  },
  {
   "cell_type": "code",
   "execution_count": 58,
   "metadata": {},
   "outputs": [
    {
     "data": {
      "text/plain": [
       "9.0"
      ]
     },
     "execution_count": 58,
     "metadata": {},
     "output_type": "execute_result"
    }
   ],
   "source": [
    "l = [10, 8, 13, 9, 11, 14, 6, 4, 12, 7, 5]\n",
    "\n",
    "avg(l)"
   ]
  },
  {
   "cell_type": "code",
   "execution_count": 59,
   "metadata": {},
   "outputs": [
    {
     "data": {
      "text/plain": [
       "9.0"
      ]
     },
     "execution_count": 59,
     "metadata": {},
     "output_type": "execute_result"
    }
   ],
   "source": [
    "import numpy as np\n",
    "\n",
    "np.mean(l)"
   ]
  },
  {
   "cell_type": "markdown",
   "metadata": {},
   "source": [
    "Answer: TODO"
   ]
  },
  {
   "cell_type": "markdown",
   "metadata": {},
   "source": [
    "> ### Question 6.  Sample standard deviation\n",
    ">\n",
    "> Write a function to calculate the standard deviation of a sample.\n",
    ">\n",
    "> Given the sample $x_1, x_2, ..., x_N$, its standard deviation is defined as $s = \\sqrt{\\frac{1}{N - 1} \\sum_{i = 1}^{N} (x_i  - \\bar{x})^2}$, with $\\bar{x}$ as the sample mean.\n",
    ">\n",
    "> What's the standard deviation of the following sample: 10, 8, 13, 9, 11, 14, 6, 4, 12, 7, and 5?\n",
    ">\n",
    "> ([Wikipedia](https://en.wikipedia.org/wiki/Standard_deviation#Sample_standard_deviation))"
   ]
  },
  {
   "cell_type": "code",
   "execution_count": 68,
   "metadata": {
    "collapsed": true
   },
   "outputs": [],
   "source": [
    "# Create a function to calculate the standard deviation of a sample\n",
    "# Find the standard deviation of the following sample: 10, 8, 13, 9, 11, 14, 6, 4, 12, 7, and 5\n",
    "def stdev(n):\n",
    "    # Again, the denominator cannot equal zero\n",
    "    x = len(n)\n",
    "    if n <= 1:\n",
    "        return None\n",
    "\n",
    "    sum = 0.\n",
    "\n",
    "    # Call previous function avg(n) \n",
    "    n_bar = avg(n)\n",
    "\n",
    "    # Loop \n",
    "    for i in n:\n",
    "        sum += (i - n_bar) ** 2\n",
    "\n",
    "    return sqr(sum / (x - 1))"
   ]
  },
  {
   "cell_type": "code",
   "execution_count": 69,
   "metadata": {},
   "outputs": [
    {
     "data": {
      "text/plain": [
       "3.3166248052315686"
      ]
     },
     "execution_count": 69,
     "metadata": {},
     "output_type": "execute_result"
    }
   ],
   "source": [
    "l = [10, 8, 13, 9, 11, 14, 6, 4, 12, 7, 5]\n",
    "\n",
    "stdev(l)"
   ]
  },
  {
   "cell_type": "code",
   "execution_count": 70,
   "metadata": {},
   "outputs": [
    {
     "data": {
      "text/plain": [
       "3.3166247903553998"
      ]
     },
     "execution_count": 70,
     "metadata": {},
     "output_type": "execute_result"
    }
   ],
   "source": [
    "np.std(l, ddof = 1)"
   ]
  },
  {
   "cell_type": "markdown",
   "metadata": {},
   "source": [
    "Answer: TODO"
   ]
  },
  {
   "cell_type": "markdown",
   "metadata": {},
   "source": [
    "> ### Question 7.  Median\n",
    ">\n",
    "> Write a function to calculate the median (\"middle value\") of a list.  ([Wikipedia](https://en.wikipedia.org/wiki/Median))\n",
    ">\n",
    "> What's the median of 10, 8, 13, 9, 11, 14, 6, 4, 12, 7, and 5?"
   ]
  },
  {
   "cell_type": "code",
   "execution_count": 72,
   "metadata": {
    "collapsed": true
   },
   "outputs": [],
   "source": [
    "# Sort values in a list and then find the median\n",
    "def median(n):\n",
    "    # Make sure the list has 1 or more values and if zero then return 'None'\n",
    "    x = len(n)\n",
    "    if x == 0:\n",
    "        return None\n",
    "    \n",
    "    # Sort the list\n",
    "    sorted_n = sorted(n)\n",
    "    \n",
    "    # Divide the length of list n into 2 by calling x\n",
    "    i = x / 2\n",
    "\n",
    "    # Lost from here... hmmm\n",
    "    if (x % 2 == 1):\n",
    "        return sorted_n[i]\n",
    "    else:\n",
    "        return avg(sorted_n[i - 1: i + 1])"
   ]
  },
  {
   "cell_type": "code",
   "execution_count": 73,
   "metadata": {},
   "outputs": [
    {
     "data": {
      "text/plain": [
       "9.0"
      ]
     },
     "execution_count": 73,
     "metadata": {},
     "output_type": "execute_result"
    }
   ],
   "source": [
    "np.median(l)"
   ]
  },
  {
   "cell_type": "markdown",
   "metadata": {},
   "source": [
    "Answer: TODO"
   ]
  },
  {
   "cell_type": "markdown",
   "metadata": {},
   "source": [
    "> ### Question 8.  Mode\n",
    ">\n",
    "> Write a function to calculate the mode (\"most frequent value\") of a list.  ([Wikipedia](https://en.wikipedia.org/wiki/Mode_(statistics)))\n",
    ">\n",
    "> What's the mode of 10, 8, 13, 9, 11, 14, 6, 4, 12, 7 and 5?  How about the mode of 8, 8, 8, 8, 8, 8, 19, 8, 8 and 8?"
   ]
  },
  {
   "cell_type": "code",
   "execution_count": null,
   "metadata": {
    "collapsed": true
   },
   "outputs": [],
   "source": [
    "# Create function to calculate mode (most frequent value)\n",
    "# Calculate the mode of a list of numbers\n",
    "def mode(n):\n",
    "    # Create dictionary counts\n",
    "    # Loop i for n where it counts in increments of 1\n",
    "    # or the count is 1\n",
    "    counts = {}\n",
    "    for i in n:\n",
    "        if i in counts:\n",
    "            counts[i] += 1\n",
    "        else:\n",
    "            counts[i] = 1\n",
    "    \n",
    "    # Hmm, why?\n",
    "    mode_count = 2\n",
    "    # Creating empty list for mode_n and will append mode_n\n",
    "    mode_n = []\n",
    "\n",
    "    # Loop count for counts? \n",
    "    for i, count in counts.iteritems(): # counts.items() in Python 3\n",
    "        if mode_count < count:\n",
    "            mode_count = count\n",
    "            mode_n = [i]\n",
    "        elif count == mode_count:\n",
    "            mode_n.append(i)\n",
    "\n",
    "    return mode_n"
   ]
  },
  {
   "cell_type": "markdown",
   "metadata": {},
   "source": [
    "Answer: TODO"
   ]
  }
 ],
 "metadata": {
  "kernelspec": {
   "display_name": "Python 2",
   "language": "python",
   "name": "python2"
  },
  "language_info": {
   "codemirror_mode": {
    "name": "ipython",
    "version": 2
   },
   "file_extension": ".py",
   "mimetype": "text/x-python",
   "name": "python",
   "nbconvert_exporter": "python",
   "pygments_lexer": "ipython2",
   "version": "2.7.12"
  }
 },
 "nbformat": 4,
 "nbformat_minor": 1
}
